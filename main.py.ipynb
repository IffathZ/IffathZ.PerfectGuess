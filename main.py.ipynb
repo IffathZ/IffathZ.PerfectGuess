{
 "cells": [
  {
   "cell_type": "code",
   "execution_count": 7,
   "metadata": {},
   "outputs": [
    {
     "name": "stdout",
     "output_type": "stream",
     "text": [
      "Enter your guess:67\n",
      "Lower Number Please...\n",
      "Enter your guess:55\n",
      "Higher Number Please...\n",
      "Enter your guess:56\n",
      "Higher Number Please...\n",
      "Enter your guess:58\n",
      "Higher Number Please...\n",
      "Enter your guess:60\n",
      "Higher Number Please...\n",
      "Enter your guess:62\n",
      "Higher Number Please...\n",
      "Enter your guess:63\n",
      "Higher Number Please...\n",
      "Enter your guess:64\n",
      "You guessed it right!\n",
      "you guessed the number in 8 guesses\n",
      "You just broken the high score!\n"
     ]
    }
   ],
   "source": [
    "import random\n",
    "randNumber = random.randint(1,100)\n",
    "\n",
    "guesses = 0\n",
    "userGuess = None\n",
    "while(userGuess!= randNumber):\n",
    "    userGuess = int(input(\"Enter your guess:\"))\n",
    "    if(userGuess == randNumber):\n",
    "        print(\"You guessed it right!\")\n",
    "    elif(userGuess<randNumber):\n",
    "        print(\"Higher Number Please...\")\n",
    "    elif(userGuess>randNumber):\n",
    "        print(\"Lower Number Please...\")\n",
    "    guesses+=1\n",
    "print(f\"you guessed the number in {guesses} guesses\" )  \n",
    "\n",
    "with open(\"hiscore.txt\",\"r\") as f:\n",
    "    hiscore = int(f.read())\n",
    "    \n",
    "if(guesses<hiscore):\n",
    "    print(\"You just broken the high score!\")\n",
    "    with open(\"hiscore.txt\",\"w\") as f:\n",
    "        f.write(str(guesses))\n"
   ]
  },
  {
   "cell_type": "code",
   "execution_count": null,
   "metadata": {},
   "outputs": [],
   "source": []
  }
 ],
 "metadata": {
  "kernelspec": {
   "display_name": "Python 3",
   "language": "python",
   "name": "python3"
  },
  "language_info": {
   "codemirror_mode": {
    "name": "ipython",
    "version": 3
   },
   "file_extension": ".py",
   "mimetype": "text/x-python",
   "name": "python",
   "nbconvert_exporter": "python",
   "pygments_lexer": "ipython3",
   "version": "3.7.4"
  }
 },
 "nbformat": 4,
 "nbformat_minor": 2
}
